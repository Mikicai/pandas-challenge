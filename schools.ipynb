{
 "metadata": {
  "language_info": {
   "codemirror_mode": {
    "name": "ipython",
    "version": 3
   },
   "file_extension": ".py",
   "mimetype": "text/x-python",
   "name": "python",
   "nbconvert_exporter": "python",
   "pygments_lexer": "ipython3",
   "version": "3.8.5-final"
  },
  "orig_nbformat": 2,
  "kernelspec": {
   "name": "python3",
   "display_name": "Python 3",
   "language": "python"
  }
 },
 "nbformat": 4,
 "nbformat_minor": 2,
 "cells": [
  {
   "cell_type": "code",
   "execution_count": 2,
   "metadata": {},
   "outputs": [
    {
     "output_type": "execute_result",
     "data": {
      "text/plain": [
       "   Student ID       student_name gender grade        school_name  \\\n",
       "0           0       Paul Bradley      M   9th  Huang High School   \n",
       "1           1       Victor Smith      M  12th  Huang High School   \n",
       "2           2    Kevin Rodriguez      M  12th  Huang High School   \n",
       "3           3  Dr. Richard Scott      M  12th  Huang High School   \n",
       "4           4         Bonnie Ray      F   9th  Huang High School   \n",
       "\n",
       "   reading_score  math_score  School ID      type  size   budget  \n",
       "0             66          79          0  District  2917  1910635  \n",
       "1             94          61          0  District  2917  1910635  \n",
       "2             90          60          0  District  2917  1910635  \n",
       "3             67          58          0  District  2917  1910635  \n",
       "4             97          84          0  District  2917  1910635  "
      ],
      "text/html": "<div>\n<style scoped>\n    .dataframe tbody tr th:only-of-type {\n        vertical-align: middle;\n    }\n\n    .dataframe tbody tr th {\n        vertical-align: top;\n    }\n\n    .dataframe thead th {\n        text-align: right;\n    }\n</style>\n<table border=\"1\" class=\"dataframe\">\n  <thead>\n    <tr style=\"text-align: right;\">\n      <th></th>\n      <th>Student ID</th>\n      <th>student_name</th>\n      <th>gender</th>\n      <th>grade</th>\n      <th>school_name</th>\n      <th>reading_score</th>\n      <th>math_score</th>\n      <th>School ID</th>\n      <th>type</th>\n      <th>size</th>\n      <th>budget</th>\n    </tr>\n  </thead>\n  <tbody>\n    <tr>\n      <th>0</th>\n      <td>0</td>\n      <td>Paul Bradley</td>\n      <td>M</td>\n      <td>9th</td>\n      <td>Huang High School</td>\n      <td>66</td>\n      <td>79</td>\n      <td>0</td>\n      <td>District</td>\n      <td>2917</td>\n      <td>1910635</td>\n    </tr>\n    <tr>\n      <th>1</th>\n      <td>1</td>\n      <td>Victor Smith</td>\n      <td>M</td>\n      <td>12th</td>\n      <td>Huang High School</td>\n      <td>94</td>\n      <td>61</td>\n      <td>0</td>\n      <td>District</td>\n      <td>2917</td>\n      <td>1910635</td>\n    </tr>\n    <tr>\n      <th>2</th>\n      <td>2</td>\n      <td>Kevin Rodriguez</td>\n      <td>M</td>\n      <td>12th</td>\n      <td>Huang High School</td>\n      <td>90</td>\n      <td>60</td>\n      <td>0</td>\n      <td>District</td>\n      <td>2917</td>\n      <td>1910635</td>\n    </tr>\n    <tr>\n      <th>3</th>\n      <td>3</td>\n      <td>Dr. Richard Scott</td>\n      <td>M</td>\n      <td>12th</td>\n      <td>Huang High School</td>\n      <td>67</td>\n      <td>58</td>\n      <td>0</td>\n      <td>District</td>\n      <td>2917</td>\n      <td>1910635</td>\n    </tr>\n    <tr>\n      <th>4</th>\n      <td>4</td>\n      <td>Bonnie Ray</td>\n      <td>F</td>\n      <td>9th</td>\n      <td>Huang High School</td>\n      <td>97</td>\n      <td>84</td>\n      <td>0</td>\n      <td>District</td>\n      <td>2917</td>\n      <td>1910635</td>\n    </tr>\n  </tbody>\n</table>\n</div>"
     },
     "metadata": {},
     "execution_count": 2
    }
   ],
   "source": [
    "# Dependencies \n",
    "import pandas as pd\n",
    "import numpy as np\n",
    "\n",
    "# File to Load (Remember to Change These)\n",
    "school_data_to_load = \"Resources/schools_complete.csv\"\n",
    "student_data_to_load = \"Resources/students_complete.csv\"\n",
    "\n",
    "# Read School and Student Data File and store into Pandas DataFrames\n",
    "school_data = pd.read_csv(school_data_to_load)\n",
    "student_data = pd.read_csv(student_data_to_load)\n",
    "\n",
    "# Combine the data into a single dataset.  \n",
    "school_data_complete = pd.merge(student_data, school_data, how=\"left\", on=[\"school_name\", \"school_name\"])\n",
    "\n",
    "school_data_complete.head()\n"
   ]
  },
  {
   "cell_type": "code",
   "execution_count": 3,
   "metadata": {},
   "outputs": [
    {
     "output_type": "execute_result",
     "data": {
      "text/plain": [
       "15"
      ]
     },
     "metadata": {},
     "execution_count": 3
    }
   ],
   "source": [
    "# District Summary\n",
    "# Calculate the total number of schools\n",
    "school_names=school_data['school_name'].unique()\n",
    "total_schools=len(school_names)\n",
    "total_schools"
   ]
  },
  {
   "cell_type": "code",
   "execution_count": 4,
   "metadata": {},
   "outputs": [
    {
     "output_type": "execute_result",
     "data": {
      "text/plain": [
       "39170"
      ]
     },
     "metadata": {},
     "execution_count": 4
    }
   ],
   "source": [
    "# Calculate the total number of students\n",
    "# student number using total size of school\n",
    "total_student=school_data[\"size\"].sum()\n",
    "total_student"
   ]
  },
  {
   "cell_type": "code",
   "execution_count": 5,
   "metadata": {},
   "outputs": [
    {
     "output_type": "execute_result",
     "data": {
      "text/plain": [
       "39170"
      ]
     },
     "metadata": {},
     "execution_count": 5
    }
   ],
   "source": [
    "# student number using total student count in student data to check if total is the same\n",
    "total_sudent_check=student_data['student_name'].count()\n",
    "total_sudent_check"
   ]
  },
  {
   "cell_type": "code",
   "execution_count": 6,
   "metadata": {},
   "outputs": [
    {
     "output_type": "execute_result",
     "data": {
      "text/plain": [
       "24649428"
      ]
     },
     "metadata": {},
     "execution_count": 6
    }
   ],
   "source": [
    "# Calculate the total budget\n",
    "Total_budget=school_data['budget'].sum()\n",
    "Total_budget"
   ]
  },
  {
   "cell_type": "code",
   "execution_count": 7,
   "metadata": {},
   "outputs": [
    {
     "output_type": "execute_result",
     "data": {
      "text/plain": [
       "78.98537145774827"
      ]
     },
     "metadata": {},
     "execution_count": 7
    }
   ],
   "source": [
    "# Calculate the average math score\n",
    "# calculate the total of math score from student data and devided by total student number \n",
    "ave_math_score=student_data['math_score'].sum()/total_student\n",
    "ave_math_score"
   ]
  },
  {
   "cell_type": "code",
   "execution_count": 8,
   "metadata": {},
   "outputs": [
    {
     "output_type": "execute_result",
     "data": {
      "text/plain": [
       "81.87784018381414"
      ]
     },
     "metadata": {},
     "execution_count": 8
    }
   ],
   "source": [
    "# Calculate the average reading score using total reading score devided by total student number\n",
    "ave_reading_score=student_data['reading_score'].sum()/total_student\n",
    "ave_reading_score"
   ]
  },
  {
   "cell_type": "code",
   "execution_count": 9,
   "metadata": {},
   "outputs": [
    {
     "output_type": "execute_result",
     "data": {
      "text/plain": [
       "0.749808526933878"
      ]
     },
     "metadata": {},
     "execution_count": 9
    }
   ],
   "source": [
    "# Calcualte the percentage of sutdent with passing math score, 70 or greater\n",
    "math_passing=student_data.loc[student_data[\n",
    "    \"math_score\"]>=70][\"math_score\"].count()\n",
    "\n",
    "math_passing_percentage=math_passing/total_student\n",
    "math_passing_percentage"
   ]
  },
  {
   "cell_type": "code",
   "execution_count": 10,
   "metadata": {},
   "outputs": [
    {
     "output_type": "execute_result",
     "data": {
      "text/plain": [
       "0.8580546336482001"
      ]
     },
     "metadata": {},
     "execution_count": 10
    }
   ],
   "source": [
    "# Calculate the percentage of students with a passing reading score (70 or greater)\n",
    "reading_passing=student_data.loc[student_data[\"reading_score\"]>=70][\"reading_score\"].count()\n",
    "reading_passing_percentage=reading_passing/total_student\n",
    "reading_passing_percentage"
   ]
  },
  {
   "cell_type": "code",
   "execution_count": 11,
   "metadata": {},
   "outputs": [
    {
     "output_type": "execute_result",
     "data": {
      "text/plain": [
       "0.6517232575950983"
      ]
     },
     "metadata": {},
     "execution_count": 11
    }
   ],
   "source": [
    "# Calculate the percentage of students with a passing reading score (70 or greater)\n",
    "all_pass=student_data.loc[(student_data[\"math_score\"]>=70) & (student_data[\"reading_score\"]>=70)][\"student_name\"].count()\n",
    "all_pass_rate=all_pass/total_student\n",
    "all_pass_rate"
   ]
  },
  {
   "cell_type": "code",
   "execution_count": 12,
   "metadata": {},
   "outputs": [
    {
     "output_type": "execute_result",
     "data": {
      "text/plain": [
       "   Total Schools Total Students    Total Budget Average Reading Score  \\\n",
       "0             15         39,170  $24,649,428.00                 81.88   \n",
       "\n",
       "  Average Math Score % Passing Reading % Passing Math Overall Passing Rate  \n",
       "0              78.99             85.8%          75.0%                65.2%  "
      ],
      "text/html": "<div>\n<style scoped>\n    .dataframe tbody tr th:only-of-type {\n        vertical-align: middle;\n    }\n\n    .dataframe tbody tr th {\n        vertical-align: top;\n    }\n\n    .dataframe thead th {\n        text-align: right;\n    }\n</style>\n<table border=\"1\" class=\"dataframe\">\n  <thead>\n    <tr style=\"text-align: right;\">\n      <th></th>\n      <th>Total Schools</th>\n      <th>Total Students</th>\n      <th>Total Budget</th>\n      <th>Average Reading Score</th>\n      <th>Average Math Score</th>\n      <th>% Passing Reading</th>\n      <th>% Passing Math</th>\n      <th>Overall Passing Rate</th>\n    </tr>\n  </thead>\n  <tbody>\n    <tr>\n      <th>0</th>\n      <td>15</td>\n      <td>39,170</td>\n      <td>$24,649,428.00</td>\n      <td>81.88</td>\n      <td>78.99</td>\n      <td>85.8%</td>\n      <td>75.0%</td>\n      <td>65.2%</td>\n    </tr>\n  </tbody>\n</table>\n</div>"
     },
     "metadata": {},
     "execution_count": 12
    }
   ],
   "source": [
    "# Create a dataframe to hold the above results\n",
    "district_summary = pd.DataFrame({\"Total Schools\":[total_schools],\n",
    "                                 \"Total Students\":[total_student],\n",
    "                                 \"Total Budget\":[Total_budget],\n",
    "                                 \"Average Math Score\":[ave_math_score],\n",
    "                                 \"Average Reading Score\":[ave_reading_score],\n",
    "                                 \"% Passing Math\":[math_passing_percentage],\n",
    "                                 \"% Passing Reading\":[reading_passing_percentage],\n",
    "                                 \"Overall Passing Rate\":[all_pass_rate]                            \n",
    "                                })\n",
    "\n",
    "# Arrange table order\n",
    "district_summary=district_summary[[\"Total Schools\",\"Total Students\",\"Total Budget\",\"Average Reading Score\",\"Average Math Score\",                                     \"% Passing Reading\",\"% Passing Math\",\"Overall Passing Rate\"]]\n",
    "\n",
    "# Format table \n",
    "district_summary['Total Budget'] = district_summary['Total Budget'].map(\"${:,.2f}\".format)\n",
    "district_summary['Average Math Score'] = district_summary['Average Math Score'].map(\"{:,.2f}\".format)\n",
    "district_summary['Average Reading Score'] = district_summary['Average Reading Score'].map(\"{:,.2f}\".format)\n",
    "district_summary['Total Students'] = district_summary['Total Students'].map(\"{:,}\".format)\n",
    "district_summary['Overall Passing Rate'] = district_summary['Overall Passing Rate'].map(\"{:.1%}\".format)\n",
    "district_summary['% Passing Math'] = district_summary['% Passing Math'].map(\"{:.1%}\".format)\n",
    "district_summary['% Passing Reading'] = district_summary['% Passing Reading'].map(\"{:.1%}\".format)\n",
    "\n",
    "district_summary"
   ]
  },
  {
   "cell_type": "code",
   "execution_count": 37,
   "metadata": {},
   "outputs": [
    {
     "output_type": "execute_result",
     "data": {
      "text/plain": [
       "                      School Type Total Student Total School Budget  \\\n",
       "Bailey High School       District         4,976           3,124,928   \n",
       "Cabrera High School       Charter         1,858           1,081,356   \n",
       "Figueroa High School     District         2,949           1,884,411   \n",
       "Ford High School         District         2,739           1,763,916   \n",
       "Griffin High School       Charter         1,468             917,500   \n",
       "Hernandez High School    District         4,635           3,022,020   \n",
       "Holden High School        Charter           427             248,087   \n",
       "Huang High School        District         2,917           1,910,635   \n",
       "Johnson High School      District         4,761           3,094,650   \n",
       "Pena High School          Charter           962             585,858   \n",
       "Rodriguez High School    District         3,999           2,547,363   \n",
       "Shelton High School       Charter         1,761           1,056,600   \n",
       "Thomas High School        Charter         1,635           1,043,130   \n",
       "Wilson High School        Charter         2,283           1,319,574   \n",
       "Wright High School        Charter         1,800           1,049,400   \n",
       "\n",
       "                      Per Student Budget Average Math Score  \\\n",
       "Bailey High School                628.00               77.0   \n",
       "Cabrera High School               582.00               83.1   \n",
       "Figueroa High School              639.00               76.7   \n",
       "Ford High School                  644.00               77.1   \n",
       "Griffin High School               625.00               83.4   \n",
       "Hernandez High School             652.00               77.3   \n",
       "Holden High School                581.00               83.8   \n",
       "Huang High School                 655.00               76.6   \n",
       "Johnson High School               650.00               77.1   \n",
       "Pena High School                  609.00               83.8   \n",
       "Rodriguez High School             637.00               76.8   \n",
       "Shelton High School               600.00               83.4   \n",
       "Thomas High School                638.00               83.4   \n",
       "Wilson High School                578.00               83.3   \n",
       "Wright High School                583.00               83.7   \n",
       "\n",
       "                      Average Reading Score % Passing Math % Passing Reading  \\\n",
       "Bailey High School                     81.0         66.68%            81.93%   \n",
       "Cabrera High School                    84.0         94.13%            97.04%   \n",
       "Figueroa High School                   81.2         65.99%            80.74%   \n",
       "Ford High School                       80.7         68.31%            79.30%   \n",
       "Griffin High School                    83.8         93.39%            97.14%   \n",
       "Hernandez High School                  80.9         66.75%            80.86%   \n",
       "Holden High School                     83.8         92.51%            96.25%   \n",
       "Huang High School                      81.2         65.68%            81.32%   \n",
       "Johnson High School                    81.0         66.06%            81.22%   \n",
       "Pena High School                       84.0         94.59%            95.95%   \n",
       "Rodriguez High School                  80.7         66.37%            80.22%   \n",
       "Shelton High School                    83.7         93.87%            95.85%   \n",
       "Thomas High School                     83.8         93.27%            97.31%   \n",
       "Wilson High School                     84.0         93.87%            96.54%   \n",
       "Wright High School                     84.0         93.33%            96.61%   \n",
       "\n",
       "                      % Overall Passing  \n",
       "Bailey High School               54.64%  \n",
       "Cabrera High School              91.33%  \n",
       "Figueroa High School             53.20%  \n",
       "Ford High School                 54.29%  \n",
       "Griffin High School              90.60%  \n",
       "Hernandez High School            53.53%  \n",
       "Holden High School               89.23%  \n",
       "Huang High School                53.51%  \n",
       "Johnson High School              53.54%  \n",
       "Pena High School                 90.54%  \n",
       "Rodriguez High School            52.99%  \n",
       "Shelton High School              89.89%  \n",
       "Thomas High School               90.95%  \n",
       "Wilson High School               90.58%  \n",
       "Wright High School               90.33%  "
      ],
      "text/html": "<div>\n<style scoped>\n    .dataframe tbody tr th:only-of-type {\n        vertical-align: middle;\n    }\n\n    .dataframe tbody tr th {\n        vertical-align: top;\n    }\n\n    .dataframe thead th {\n        text-align: right;\n    }\n</style>\n<table border=\"1\" class=\"dataframe\">\n  <thead>\n    <tr style=\"text-align: right;\">\n      <th></th>\n      <th>School Type</th>\n      <th>Total Student</th>\n      <th>Total School Budget</th>\n      <th>Per Student Budget</th>\n      <th>Average Math Score</th>\n      <th>Average Reading Score</th>\n      <th>% Passing Math</th>\n      <th>% Passing Reading</th>\n      <th>% Overall Passing</th>\n    </tr>\n  </thead>\n  <tbody>\n    <tr>\n      <th>Bailey High School</th>\n      <td>District</td>\n      <td>4,976</td>\n      <td>3,124,928</td>\n      <td>628.00</td>\n      <td>77.0</td>\n      <td>81.0</td>\n      <td>66.68%</td>\n      <td>81.93%</td>\n      <td>54.64%</td>\n    </tr>\n    <tr>\n      <th>Cabrera High School</th>\n      <td>Charter</td>\n      <td>1,858</td>\n      <td>1,081,356</td>\n      <td>582.00</td>\n      <td>83.1</td>\n      <td>84.0</td>\n      <td>94.13%</td>\n      <td>97.04%</td>\n      <td>91.33%</td>\n    </tr>\n    <tr>\n      <th>Figueroa High School</th>\n      <td>District</td>\n      <td>2,949</td>\n      <td>1,884,411</td>\n      <td>639.00</td>\n      <td>76.7</td>\n      <td>81.2</td>\n      <td>65.99%</td>\n      <td>80.74%</td>\n      <td>53.20%</td>\n    </tr>\n    <tr>\n      <th>Ford High School</th>\n      <td>District</td>\n      <td>2,739</td>\n      <td>1,763,916</td>\n      <td>644.00</td>\n      <td>77.1</td>\n      <td>80.7</td>\n      <td>68.31%</td>\n      <td>79.30%</td>\n      <td>54.29%</td>\n    </tr>\n    <tr>\n      <th>Griffin High School</th>\n      <td>Charter</td>\n      <td>1,468</td>\n      <td>917,500</td>\n      <td>625.00</td>\n      <td>83.4</td>\n      <td>83.8</td>\n      <td>93.39%</td>\n      <td>97.14%</td>\n      <td>90.60%</td>\n    </tr>\n    <tr>\n      <th>Hernandez High School</th>\n      <td>District</td>\n      <td>4,635</td>\n      <td>3,022,020</td>\n      <td>652.00</td>\n      <td>77.3</td>\n      <td>80.9</td>\n      <td>66.75%</td>\n      <td>80.86%</td>\n      <td>53.53%</td>\n    </tr>\n    <tr>\n      <th>Holden High School</th>\n      <td>Charter</td>\n      <td>427</td>\n      <td>248,087</td>\n      <td>581.00</td>\n      <td>83.8</td>\n      <td>83.8</td>\n      <td>92.51%</td>\n      <td>96.25%</td>\n      <td>89.23%</td>\n    </tr>\n    <tr>\n      <th>Huang High School</th>\n      <td>District</td>\n      <td>2,917</td>\n      <td>1,910,635</td>\n      <td>655.00</td>\n      <td>76.6</td>\n      <td>81.2</td>\n      <td>65.68%</td>\n      <td>81.32%</td>\n      <td>53.51%</td>\n    </tr>\n    <tr>\n      <th>Johnson High School</th>\n      <td>District</td>\n      <td>4,761</td>\n      <td>3,094,650</td>\n      <td>650.00</td>\n      <td>77.1</td>\n      <td>81.0</td>\n      <td>66.06%</td>\n      <td>81.22%</td>\n      <td>53.54%</td>\n    </tr>\n    <tr>\n      <th>Pena High School</th>\n      <td>Charter</td>\n      <td>962</td>\n      <td>585,858</td>\n      <td>609.00</td>\n      <td>83.8</td>\n      <td>84.0</td>\n      <td>94.59%</td>\n      <td>95.95%</td>\n      <td>90.54%</td>\n    </tr>\n    <tr>\n      <th>Rodriguez High School</th>\n      <td>District</td>\n      <td>3,999</td>\n      <td>2,547,363</td>\n      <td>637.00</td>\n      <td>76.8</td>\n      <td>80.7</td>\n      <td>66.37%</td>\n      <td>80.22%</td>\n      <td>52.99%</td>\n    </tr>\n    <tr>\n      <th>Shelton High School</th>\n      <td>Charter</td>\n      <td>1,761</td>\n      <td>1,056,600</td>\n      <td>600.00</td>\n      <td>83.4</td>\n      <td>83.7</td>\n      <td>93.87%</td>\n      <td>95.85%</td>\n      <td>89.89%</td>\n    </tr>\n    <tr>\n      <th>Thomas High School</th>\n      <td>Charter</td>\n      <td>1,635</td>\n      <td>1,043,130</td>\n      <td>638.00</td>\n      <td>83.4</td>\n      <td>83.8</td>\n      <td>93.27%</td>\n      <td>97.31%</td>\n      <td>90.95%</td>\n    </tr>\n    <tr>\n      <th>Wilson High School</th>\n      <td>Charter</td>\n      <td>2,283</td>\n      <td>1,319,574</td>\n      <td>578.00</td>\n      <td>83.3</td>\n      <td>84.0</td>\n      <td>93.87%</td>\n      <td>96.54%</td>\n      <td>90.58%</td>\n    </tr>\n    <tr>\n      <th>Wright High School</th>\n      <td>Charter</td>\n      <td>1,800</td>\n      <td>1,049,400</td>\n      <td>583.00</td>\n      <td>83.7</td>\n      <td>84.0</td>\n      <td>93.33%</td>\n      <td>96.61%</td>\n      <td>90.33%</td>\n    </tr>\n  </tbody>\n</table>\n</div>"
     },
     "metadata": {},
     "execution_count": 37
    }
   ],
   "source": [
    "# School Summary\n",
    "# School Names\n",
    "schl_name=school_data_complete.set_index('school_name').groupby(['school_name'])\n",
    "\n",
    "# School Type\n",
    "school_type=school_data.set_index('school_name')['type']\n",
    "\n",
    "# Total students\n",
    "Student_per_school= schl_name['Student ID'].count()\n",
    "\n",
    "# Total School Budget\n",
    "School_budget=school_data.set_index('school_name')['budget']\n",
    "\n",
    "# Per Student Budget\n",
    "per_student_budget=School_budget/Student_per_school\n",
    "\n",
    "# Average Math score\n",
    "ave_math_byschool=schl_name['math_score'].mean()\n",
    "\n",
    "# Average Reading score\n",
    "ave_reading_byschool=schl_name['reading_score'].mean()\n",
    "\n",
    "# % passing Math\n",
    "schl_pass_math=school_data_complete[school_data_complete['math_score']>=70].groupby('school_name')['Student ID'].count()/Student_per_school\n",
    "\n",
    "# % passing reading\n",
    "schl_pass_reading=school_data_complete[school_data_complete['reading_score']>=70].groupby('school_name')['Student ID'].count()/Student_per_school\n",
    "\n",
    "# School's overall passing rate\n",
    "school_passing_rate=school_data_complete[(school_data_complete['reading_score']>=70) &(school_data_complete['math_score']>=70)].groupby('school_name')['Student ID'].count()/Student_per_school\n",
    "\n",
    "# Create a dataframe to hold the above result\n",
    "school_summary=pd.DataFrame({\"School Type\": school_type,\"Total Student\": Student_per_school,\n",
    "                            \"Total School Budget\": School_budget,\"Per Student Budget\": per_student_budget,\n",
    "                            \"Average Math Score\":ave_math_byschool,\"Average Reading Score\":ave_reading_byschool,\n",
    "                            \"% Passing Math\": schl_pass_math,\"% Passing Reading\": schl_pass_reading,\n",
    "                            \"% Overall Passing\": school_passing_rate})\n",
    "\n",
    "# Format the table\n",
    "school_summary['Total Student'] = school_summary['Total Student'].map(\"{:,}\".format)\n",
    "school_summary['Total School Budget'] = school_summary['Total School Budget'].map(\"{:,}\".format)\n",
    "school_summary['Per Student Budget'] = school_summary['Per Student Budget'].map(\"{:.2f}\".format)\n",
    "school_summary['Average Math Score'] = school_summary['Average Math Score'].map(\"{:.1f}\".format)\n",
    "school_summary['Average Reading Score'] = school_summary['Average Reading Score'].map(\"{:.1f}\".format)\n",
    "school_summary['% Passing Math'] = school_summary['% Passing Math'].map(\"{:.2%}\".format)\n",
    "school_summary['% Passing Reading'] = school_summary['% Passing Reading'].map(\"{:.2%}\".format)\n",
    "school_summary['% Overall Passing'] = school_summary['% Overall Passing'].map(\"{:.2%}\".format)\n",
    "\n",
    "\n",
    "school_summary\n",
    "\n"
   ]
  },
  {
   "cell_type": "code",
   "execution_count": 14,
   "metadata": {},
   "outputs": [
    {
     "output_type": "execute_result",
     "data": {
      "text/plain": [
       "                    School Type Total Student Total School Budget  \\\n",
       "Cabrera High School     Charter         1,858           1,081,356   \n",
       "Thomas High School      Charter         1,635           1,043,130   \n",
       "Griffin High School     Charter         1,468             917,500   \n",
       "Wilson High School      Charter         2,283           1,319,574   \n",
       "Pena High School        Charter           962             585,858   \n",
       "\n",
       "                    Per Student Budget Average Math Score  \\\n",
       "Cabrera High School             582.00               83.1   \n",
       "Thomas High School              638.00               83.4   \n",
       "Griffin High School             625.00               83.4   \n",
       "Wilson High School              578.00               83.3   \n",
       "Pena High School                609.00               83.8   \n",
       "\n",
       "                    Average Reading Score % Passing Math % Passing Reading  \\\n",
       "Cabrera High School                  84.0         94.13%            97.04%   \n",
       "Thomas High School                   83.8         93.27%            97.31%   \n",
       "Griffin High School                  83.8         93.39%            97.14%   \n",
       "Wilson High School                   84.0         93.87%            96.54%   \n",
       "Pena High School                     84.0         94.59%            95.95%   \n",
       "\n",
       "                    % Overall Passing  \n",
       "Cabrera High School            91.33%  \n",
       "Thomas High School             90.95%  \n",
       "Griffin High School            90.60%  \n",
       "Wilson High School             90.58%  \n",
       "Pena High School               90.54%  "
      ],
      "text/html": "<div>\n<style scoped>\n    .dataframe tbody tr th:only-of-type {\n        vertical-align: middle;\n    }\n\n    .dataframe tbody tr th {\n        vertical-align: top;\n    }\n\n    .dataframe thead th {\n        text-align: right;\n    }\n</style>\n<table border=\"1\" class=\"dataframe\">\n  <thead>\n    <tr style=\"text-align: right;\">\n      <th></th>\n      <th>School Type</th>\n      <th>Total Student</th>\n      <th>Total School Budget</th>\n      <th>Per Student Budget</th>\n      <th>Average Math Score</th>\n      <th>Average Reading Score</th>\n      <th>% Passing Math</th>\n      <th>% Passing Reading</th>\n      <th>% Overall Passing</th>\n    </tr>\n  </thead>\n  <tbody>\n    <tr>\n      <th>Cabrera High School</th>\n      <td>Charter</td>\n      <td>1,858</td>\n      <td>1,081,356</td>\n      <td>582.00</td>\n      <td>83.1</td>\n      <td>84.0</td>\n      <td>94.13%</td>\n      <td>97.04%</td>\n      <td>91.33%</td>\n    </tr>\n    <tr>\n      <th>Thomas High School</th>\n      <td>Charter</td>\n      <td>1,635</td>\n      <td>1,043,130</td>\n      <td>638.00</td>\n      <td>83.4</td>\n      <td>83.8</td>\n      <td>93.27%</td>\n      <td>97.31%</td>\n      <td>90.95%</td>\n    </tr>\n    <tr>\n      <th>Griffin High School</th>\n      <td>Charter</td>\n      <td>1,468</td>\n      <td>917,500</td>\n      <td>625.00</td>\n      <td>83.4</td>\n      <td>83.8</td>\n      <td>93.39%</td>\n      <td>97.14%</td>\n      <td>90.60%</td>\n    </tr>\n    <tr>\n      <th>Wilson High School</th>\n      <td>Charter</td>\n      <td>2,283</td>\n      <td>1,319,574</td>\n      <td>578.00</td>\n      <td>83.3</td>\n      <td>84.0</td>\n      <td>93.87%</td>\n      <td>96.54%</td>\n      <td>90.58%</td>\n    </tr>\n    <tr>\n      <th>Pena High School</th>\n      <td>Charter</td>\n      <td>962</td>\n      <td>585,858</td>\n      <td>609.00</td>\n      <td>83.8</td>\n      <td>84.0</td>\n      <td>94.59%</td>\n      <td>95.95%</td>\n      <td>90.54%</td>\n    </tr>\n  </tbody>\n</table>\n</div>"
     },
     "metadata": {},
     "execution_count": 14
    }
   ],
   "source": [
    "# Top Performing Schools (By % Overall Passing)\n",
    "# Sort and display the top five performing schools by % overall passing.\n",
    "top5_passing=school_summary.sort_values(\"% Overall Passing\", ascending=False)\n",
    "top5_passing.head(5)"
   ]
  },
  {
   "cell_type": "code",
   "execution_count": 15,
   "metadata": {},
   "outputs": [
    {
     "output_type": "execute_result",
     "data": {
      "text/plain": [
       "                      School Type Total Student Total School Budget  \\\n",
       "Rodriguez High School    District         3,999           2,547,363   \n",
       "Figueroa High School     District         2,949           1,884,411   \n",
       "Huang High School        District         2,917           1,910,635   \n",
       "Hernandez High School    District         4,635           3,022,020   \n",
       "Johnson High School      District         4,761           3,094,650   \n",
       "\n",
       "                      Per Student Budget Average Math Score  \\\n",
       "Rodriguez High School             637.00               76.8   \n",
       "Figueroa High School              639.00               76.7   \n",
       "Huang High School                 655.00               76.6   \n",
       "Hernandez High School             652.00               77.3   \n",
       "Johnson High School               650.00               77.1   \n",
       "\n",
       "                      Average Reading Score % Passing Math % Passing Reading  \\\n",
       "Rodriguez High School                  80.7         66.37%            80.22%   \n",
       "Figueroa High School                   81.2         65.99%            80.74%   \n",
       "Huang High School                      81.2         65.68%            81.32%   \n",
       "Hernandez High School                  80.9         66.75%            80.86%   \n",
       "Johnson High School                    81.0         66.06%            81.22%   \n",
       "\n",
       "                      % Overall Passing  \n",
       "Rodriguez High School            52.99%  \n",
       "Figueroa High School             53.20%  \n",
       "Huang High School                53.51%  \n",
       "Hernandez High School            53.53%  \n",
       "Johnson High School              53.54%  "
      ],
      "text/html": "<div>\n<style scoped>\n    .dataframe tbody tr th:only-of-type {\n        vertical-align: middle;\n    }\n\n    .dataframe tbody tr th {\n        vertical-align: top;\n    }\n\n    .dataframe thead th {\n        text-align: right;\n    }\n</style>\n<table border=\"1\" class=\"dataframe\">\n  <thead>\n    <tr style=\"text-align: right;\">\n      <th></th>\n      <th>School Type</th>\n      <th>Total Student</th>\n      <th>Total School Budget</th>\n      <th>Per Student Budget</th>\n      <th>Average Math Score</th>\n      <th>Average Reading Score</th>\n      <th>% Passing Math</th>\n      <th>% Passing Reading</th>\n      <th>% Overall Passing</th>\n    </tr>\n  </thead>\n  <tbody>\n    <tr>\n      <th>Rodriguez High School</th>\n      <td>District</td>\n      <td>3,999</td>\n      <td>2,547,363</td>\n      <td>637.00</td>\n      <td>76.8</td>\n      <td>80.7</td>\n      <td>66.37%</td>\n      <td>80.22%</td>\n      <td>52.99%</td>\n    </tr>\n    <tr>\n      <th>Figueroa High School</th>\n      <td>District</td>\n      <td>2,949</td>\n      <td>1,884,411</td>\n      <td>639.00</td>\n      <td>76.7</td>\n      <td>81.2</td>\n      <td>65.99%</td>\n      <td>80.74%</td>\n      <td>53.20%</td>\n    </tr>\n    <tr>\n      <th>Huang High School</th>\n      <td>District</td>\n      <td>2,917</td>\n      <td>1,910,635</td>\n      <td>655.00</td>\n      <td>76.6</td>\n      <td>81.2</td>\n      <td>65.68%</td>\n      <td>81.32%</td>\n      <td>53.51%</td>\n    </tr>\n    <tr>\n      <th>Hernandez High School</th>\n      <td>District</td>\n      <td>4,635</td>\n      <td>3,022,020</td>\n      <td>652.00</td>\n      <td>77.3</td>\n      <td>80.9</td>\n      <td>66.75%</td>\n      <td>80.86%</td>\n      <td>53.53%</td>\n    </tr>\n    <tr>\n      <th>Johnson High School</th>\n      <td>District</td>\n      <td>4,761</td>\n      <td>3,094,650</td>\n      <td>650.00</td>\n      <td>77.1</td>\n      <td>81.0</td>\n      <td>66.06%</td>\n      <td>81.22%</td>\n      <td>53.54%</td>\n    </tr>\n  </tbody>\n</table>\n</div>"
     },
     "metadata": {},
     "execution_count": 15
    }
   ],
   "source": [
    "# Bottom Performing Schools (By % Overall Passing)\n",
    "# Sort and display the five worst-performing schools by % overall passing.\n",
    "bottom5_passing=school_summary.sort_values(\"% Overall Passing\",ascending=True)\n",
    "bottom5_passing.head(5)"
   ]
  },
  {
   "cell_type": "code",
   "execution_count": 16,
   "metadata": {},
   "outputs": [
    {
     "output_type": "execute_result",
     "data": {
      "text/plain": [
       "                          9th    10th    11th    12th\n",
       "school_name                                          \n",
       "Bailey High School     77.084  76.997  77.516  76.492\n",
       "Cabrera High School    83.095  83.155  82.766  83.277\n",
       "Figueroa High School   76.403  76.540  76.884  77.151\n",
       "Ford High School       77.361  77.672  76.918  76.180\n",
       "Griffin High School    82.044  84.229  83.842  83.356\n",
       "Hernandez High School  77.438  77.337  77.136  77.187\n",
       "Holden High School     83.787  83.430  85.000  82.855\n",
       "Huang High School      77.027  75.909  76.447  77.226\n",
       "Johnson High School    77.188  76.691  77.492  76.863\n",
       "Pena High School       83.625  83.372  84.328  84.122\n",
       "Rodriguez High School  76.860  76.612  76.396  77.691\n",
       "Shelton High School    83.421  82.917  83.383  83.779\n",
       "Thomas High School     83.590  83.088  83.499  83.497\n",
       "Wilson High School     83.086  83.724  83.195  83.036\n",
       "Wright High School     83.265  84.010  83.837  83.645"
      ],
      "text/html": "<div>\n<style scoped>\n    .dataframe tbody tr th:only-of-type {\n        vertical-align: middle;\n    }\n\n    .dataframe tbody tr th {\n        vertical-align: top;\n    }\n\n    .dataframe thead th {\n        text-align: right;\n    }\n</style>\n<table border=\"1\" class=\"dataframe\">\n  <thead>\n    <tr style=\"text-align: right;\">\n      <th></th>\n      <th>9th</th>\n      <th>10th</th>\n      <th>11th</th>\n      <th>12th</th>\n    </tr>\n    <tr>\n      <th>school_name</th>\n      <th></th>\n      <th></th>\n      <th></th>\n      <th></th>\n    </tr>\n  </thead>\n  <tbody>\n    <tr>\n      <th>Bailey High School</th>\n      <td>77.084</td>\n      <td>76.997</td>\n      <td>77.516</td>\n      <td>76.492</td>\n    </tr>\n    <tr>\n      <th>Cabrera High School</th>\n      <td>83.095</td>\n      <td>83.155</td>\n      <td>82.766</td>\n      <td>83.277</td>\n    </tr>\n    <tr>\n      <th>Figueroa High School</th>\n      <td>76.403</td>\n      <td>76.540</td>\n      <td>76.884</td>\n      <td>77.151</td>\n    </tr>\n    <tr>\n      <th>Ford High School</th>\n      <td>77.361</td>\n      <td>77.672</td>\n      <td>76.918</td>\n      <td>76.180</td>\n    </tr>\n    <tr>\n      <th>Griffin High School</th>\n      <td>82.044</td>\n      <td>84.229</td>\n      <td>83.842</td>\n      <td>83.356</td>\n    </tr>\n    <tr>\n      <th>Hernandez High School</th>\n      <td>77.438</td>\n      <td>77.337</td>\n      <td>77.136</td>\n      <td>77.187</td>\n    </tr>\n    <tr>\n      <th>Holden High School</th>\n      <td>83.787</td>\n      <td>83.430</td>\n      <td>85.000</td>\n      <td>82.855</td>\n    </tr>\n    <tr>\n      <th>Huang High School</th>\n      <td>77.027</td>\n      <td>75.909</td>\n      <td>76.447</td>\n      <td>77.226</td>\n    </tr>\n    <tr>\n      <th>Johnson High School</th>\n      <td>77.188</td>\n      <td>76.691</td>\n      <td>77.492</td>\n      <td>76.863</td>\n    </tr>\n    <tr>\n      <th>Pena High School</th>\n      <td>83.625</td>\n      <td>83.372</td>\n      <td>84.328</td>\n      <td>84.122</td>\n    </tr>\n    <tr>\n      <th>Rodriguez High School</th>\n      <td>76.860</td>\n      <td>76.612</td>\n      <td>76.396</td>\n      <td>77.691</td>\n    </tr>\n    <tr>\n      <th>Shelton High School</th>\n      <td>83.421</td>\n      <td>82.917</td>\n      <td>83.383</td>\n      <td>83.779</td>\n    </tr>\n    <tr>\n      <th>Thomas High School</th>\n      <td>83.590</td>\n      <td>83.088</td>\n      <td>83.499</td>\n      <td>83.497</td>\n    </tr>\n    <tr>\n      <th>Wilson High School</th>\n      <td>83.086</td>\n      <td>83.724</td>\n      <td>83.195</td>\n      <td>83.036</td>\n    </tr>\n    <tr>\n      <th>Wright High School</th>\n      <td>83.265</td>\n      <td>84.010</td>\n      <td>83.837</td>\n      <td>83.645</td>\n    </tr>\n  </tbody>\n</table>\n</div>"
     },
     "metadata": {},
     "execution_count": 16
    }
   ],
   "source": [
    "# Math scores by Grade\n",
    "# Create variabel to hold student data by grade\n",
    "grade_nine=student_data.loc[student_data['grade']==\"9th\"]\n",
    "grade_ten=student_data.loc[student_data['grade']==\"10th\"]\n",
    "grade_eleven=student_data.loc[student_data['grade']==\"11th\"]\n",
    "grade_twelve=student_data.loc[student_data['grade']==\"12th\"]\n",
    "\n",
    "# work out mean of match score by school \n",
    "math_ninth=grade_nine.groupby(\"school_name\")[\"math_score\"].mean()\n",
    "math_tenth=grade_ten.groupby(\"school_name\")[\"math_score\"].mean()\n",
    "math_eleventh=grade_eleven.groupby(\"school_name\")[\"math_score\"].mean()\n",
    "math_twelveth=grade_twelve.groupby(\"school_name\")[\"math_score\"].mean()\n",
    "\n",
    "# Combine the series into a data frame\n",
    "math_by_grade=pd.DataFrame({\"9th\":math_ninth,\n",
    "                            \"10th\":math_tenth,\n",
    "                            \"11th\":math_eleventh,\n",
    "                            \"12th\":math_twelveth})\n",
    "\n",
    "# Format the DF\n",
    "math_by_grade['9th'] = math_by_grade['9th'].map(\"{:.3f}\".format)\n",
    "math_by_grade['10th'] = math_by_grade['10th'].map(\"{:.3f}\".format)\n",
    "math_by_grade['11th'] = math_by_grade['11th'].map(\"{:.3f}\".format)\n",
    "math_by_grade['12th'] = math_by_grade['12th'].map(\"{:.3f}\".format)\n",
    "\n",
    "math_by_grade"
   ]
  },
  {
   "cell_type": "code",
   "execution_count": 17,
   "metadata": {},
   "outputs": [
    {
     "output_type": "execute_result",
     "data": {
      "text/plain": [
       "                          9th    10th    11th    12th\n",
       "school_name                                          \n",
       "Bailey High School     81.303  80.907  80.946  80.912\n",
       "Cabrera High School    83.676  84.253  83.788  84.288\n",
       "Figueroa High School   81.199  81.409  80.640  81.385\n",
       "Ford High School       80.633  81.263  80.404  80.662\n",
       "Griffin High School    83.369  83.707  84.288  84.014\n",
       "Hernandez High School  80.867  80.660  81.396  80.857\n",
       "Holden High School     83.677  83.325  83.816  84.699\n",
       "Huang High School      81.290  81.512  81.417  80.306\n",
       "Johnson High School    81.261  80.773  80.616  81.228\n",
       "Pena High School       83.807  83.612  84.336  84.591\n",
       "Rodriguez High School  80.993  80.630  80.865  80.376\n",
       "Shelton High School    84.123  83.442  84.374  82.782\n",
       "Thomas High School     83.729  84.254  83.586  83.831\n",
       "Wilson High School     83.940  84.021  83.765  84.318\n",
       "Wright High School     83.833  83.813  84.156  84.073"
      ],
      "text/html": "<div>\n<style scoped>\n    .dataframe tbody tr th:only-of-type {\n        vertical-align: middle;\n    }\n\n    .dataframe tbody tr th {\n        vertical-align: top;\n    }\n\n    .dataframe thead th {\n        text-align: right;\n    }\n</style>\n<table border=\"1\" class=\"dataframe\">\n  <thead>\n    <tr style=\"text-align: right;\">\n      <th></th>\n      <th>9th</th>\n      <th>10th</th>\n      <th>11th</th>\n      <th>12th</th>\n    </tr>\n    <tr>\n      <th>school_name</th>\n      <th></th>\n      <th></th>\n      <th></th>\n      <th></th>\n    </tr>\n  </thead>\n  <tbody>\n    <tr>\n      <th>Bailey High School</th>\n      <td>81.303</td>\n      <td>80.907</td>\n      <td>80.946</td>\n      <td>80.912</td>\n    </tr>\n    <tr>\n      <th>Cabrera High School</th>\n      <td>83.676</td>\n      <td>84.253</td>\n      <td>83.788</td>\n      <td>84.288</td>\n    </tr>\n    <tr>\n      <th>Figueroa High School</th>\n      <td>81.199</td>\n      <td>81.409</td>\n      <td>80.640</td>\n      <td>81.385</td>\n    </tr>\n    <tr>\n      <th>Ford High School</th>\n      <td>80.633</td>\n      <td>81.263</td>\n      <td>80.404</td>\n      <td>80.662</td>\n    </tr>\n    <tr>\n      <th>Griffin High School</th>\n      <td>83.369</td>\n      <td>83.707</td>\n      <td>84.288</td>\n      <td>84.014</td>\n    </tr>\n    <tr>\n      <th>Hernandez High School</th>\n      <td>80.867</td>\n      <td>80.660</td>\n      <td>81.396</td>\n      <td>80.857</td>\n    </tr>\n    <tr>\n      <th>Holden High School</th>\n      <td>83.677</td>\n      <td>83.325</td>\n      <td>83.816</td>\n      <td>84.699</td>\n    </tr>\n    <tr>\n      <th>Huang High School</th>\n      <td>81.290</td>\n      <td>81.512</td>\n      <td>81.417</td>\n      <td>80.306</td>\n    </tr>\n    <tr>\n      <th>Johnson High School</th>\n      <td>81.261</td>\n      <td>80.773</td>\n      <td>80.616</td>\n      <td>81.228</td>\n    </tr>\n    <tr>\n      <th>Pena High School</th>\n      <td>83.807</td>\n      <td>83.612</td>\n      <td>84.336</td>\n      <td>84.591</td>\n    </tr>\n    <tr>\n      <th>Rodriguez High School</th>\n      <td>80.993</td>\n      <td>80.630</td>\n      <td>80.865</td>\n      <td>80.376</td>\n    </tr>\n    <tr>\n      <th>Shelton High School</th>\n      <td>84.123</td>\n      <td>83.442</td>\n      <td>84.374</td>\n      <td>82.782</td>\n    </tr>\n    <tr>\n      <th>Thomas High School</th>\n      <td>83.729</td>\n      <td>84.254</td>\n      <td>83.586</td>\n      <td>83.831</td>\n    </tr>\n    <tr>\n      <th>Wilson High School</th>\n      <td>83.940</td>\n      <td>84.021</td>\n      <td>83.765</td>\n      <td>84.318</td>\n    </tr>\n    <tr>\n      <th>Wright High School</th>\n      <td>83.833</td>\n      <td>83.813</td>\n      <td>84.156</td>\n      <td>84.073</td>\n    </tr>\n  </tbody>\n</table>\n</div>"
     },
     "metadata": {},
     "execution_count": 17
    }
   ],
   "source": [
    "# Reading score by grade\n",
    "# Student data had been made in previous step\n",
    "# work out mean of match score by school \n",
    "grade_nine=student_data.loc[student_data['grade']==\"9th\"]\n",
    "grade_ten=student_data.loc[student_data['grade']==\"10th\"]\n",
    "grade_eleven=student_data.loc[student_data['grade']==\"11th\"]\n",
    "grade_twelve=student_data.loc[student_data['grade']==\"12th\"]\n",
    "\n",
    "reading_ninth=grade_nine.groupby(\"school_name\")[\"reading_score\"].mean()\n",
    "reading_tenth=grade_ten.groupby(\"school_name\")[\"reading_score\"].mean()\n",
    "reading_eleventh=grade_eleven.groupby(\"school_name\")[\"reading_score\"].mean()\n",
    "reading_twelveth=grade_twelve.groupby(\"school_name\")[\"reading_score\"].mean()\n",
    "\n",
    "# Combine the series into a data frame\n",
    "reading_by_grade=pd.DataFrame({\"9th\":reading_ninth,\n",
    "                            \"10th\":reading_tenth,\n",
    "                            \"11th\":reading_eleventh,\n",
    "                            \"12th\":reading_twelveth})\n",
    "\n",
    "# Format the DF\n",
    "reading_by_grade['9th'] = reading_by_grade['9th'].map(\"{:.3f}\".format)\n",
    "reading_by_grade['10th'] = reading_by_grade['10th'].map(\"{:.3f}\".format)\n",
    "reading_by_grade['11th'] = reading_by_grade['11th'].map(\"{:.3f}\".format)\n",
    "reading_by_grade['12th'] = reading_by_grade['12th'].map(\"{:.3f}\".format)\n",
    "\n",
    "reading_by_grade"
   ]
  },
  {
   "cell_type": "code",
   "execution_count": 122,
   "metadata": {},
   "outputs": [
    {
     "output_type": "execute_result",
     "data": {
      "text/plain": [
       "                            Average Math Score Average Reading Score  \\\n",
       "Spending Range Per Student                                             \n",
       "<$584                                   83.475                83.950   \n",
       "$585-629                                81.900                83.125   \n",
       "$630-644                                78.500                81.600   \n",
       "$645-675                                77.000                81.033   \n",
       "\n",
       "                           % Passing Math % Passing Reading % Overall Passing  \n",
       "Spending Range Per Student                                                     \n",
       "<$584                              93.460            96.610            90.367  \n",
       "$585-629                           87.132            92.718            81.418  \n",
       "$630-644                           73.485            84.392            62.858  \n",
       "$645-675                           66.163            81.133            53.527  "
      ],
      "text/html": "<div>\n<style scoped>\n    .dataframe tbody tr th:only-of-type {\n        vertical-align: middle;\n    }\n\n    .dataframe tbody tr th {\n        vertical-align: top;\n    }\n\n    .dataframe thead th {\n        text-align: right;\n    }\n</style>\n<table border=\"1\" class=\"dataframe\">\n  <thead>\n    <tr style=\"text-align: right;\">\n      <th></th>\n      <th>Average Math Score</th>\n      <th>Average Reading Score</th>\n      <th>% Passing Math</th>\n      <th>% Passing Reading</th>\n      <th>% Overall Passing</th>\n    </tr>\n    <tr>\n      <th>Spending Range Per Student</th>\n      <th></th>\n      <th></th>\n      <th></th>\n      <th></th>\n      <th></th>\n    </tr>\n  </thead>\n  <tbody>\n    <tr>\n      <th>&lt;$584</th>\n      <td>83.475</td>\n      <td>83.950</td>\n      <td>93.460</td>\n      <td>96.610</td>\n      <td>90.367</td>\n    </tr>\n    <tr>\n      <th>$585-629</th>\n      <td>81.900</td>\n      <td>83.125</td>\n      <td>87.132</td>\n      <td>92.718</td>\n      <td>81.418</td>\n    </tr>\n    <tr>\n      <th>$630-644</th>\n      <td>78.500</td>\n      <td>81.600</td>\n      <td>73.485</td>\n      <td>84.392</td>\n      <td>62.858</td>\n    </tr>\n    <tr>\n      <th>$645-675</th>\n      <td>77.000</td>\n      <td>81.033</td>\n      <td>66.163</td>\n      <td>81.133</td>\n      <td>53.527</td>\n    </tr>\n  </tbody>\n</table>\n</div>"
     },
     "metadata": {},
     "execution_count": 122
    }
   ],
   "source": [
    "# Scores by School Spending\n",
    "\n",
    "# change to numeric format in school summary data frame\n",
    "school_summary['Per Student Budget'] = pd.to_numeric(school_summary['Per Student Budget'])\n",
    "\n",
    "\n",
    "# Set up bins to hold spending ranges\n",
    "spending_bins=[0,584,629,644,675]\n",
    "group_names=[\"<$584\",\"$585-629\",\"$630-644\",\"$645-675\"]\n",
    "school_summary[\"Spending Range Per Student\"]=pd.cut(school_summary[\"Per Student Budget\"],spending_bins,labels=group_names)\n",
    "school_summary.head()\n",
    "\n",
    "# Group data by Spending range bin that's set up \n",
    "score_spending=school_summary.groupby(['Spending Range Per Student'])\n",
    "\n",
    "\n",
    "\n",
    "\n",
    "# Convert data type to numeric Average Math Score, % passing Math, reading and overall required after checking datatype\n",
    "school_summary['Average Math Score']=pd.to_numeric(school_summary['Average Math Score'])\n",
    "school_summary['Average Reading Score']=pd.to_numeric(school_summary['Average Reading Score'])\n",
    "school_summary[\"% Passing Math\"] = school_summary[\"% Passing Math\"].replace('%', '', regex=True).astype('float')\n",
    "school_summary['% Passing Math']=pd.to_numeric(school_summary['% Passing Math'])\n",
    "school_summary[\"% Passing Reading\"] = school_summary[\"% Passing Reading\"].replace('%', '', regex=True).astype('float')\n",
    "school_summary['% Passing Reading']=pd.to_numeric(school_summary['% Passing Reading'])\n",
    "school_summary[\"% Overall Passing\"] = school_summary[\"% Overall Passing\"].replace('%', '', regex=True).astype('float')\n",
    "school_summary['% Overall Passing']=pd.to_numeric(school_summary['% Overall Passing'])\n",
    "\n",
    "# score_spending.dtypes\n",
    "\n",
    "#calculate the mean of every spending group\n",
    "math_score_mean=score_spending[\"Average Math Score\"].mean()\n",
    "Reading_score_mean=score_spending[\"Average Reading Score\"].mean()\n",
    "passing_math_mean=score_spending[\"% Passing Math\"].mean()\n",
    "passing_reading_mean=score_spending[\"% Passing Reading\"].mean()\n",
    "allPassing_mean=score_spending[\"% Overall Passing\"].mean()\n",
    "\n",
    "# create a dataframe to hold the results\n",
    "scores_by_spending=pd.DataFrame({\"Average Math Score\":math_score_mean,\n",
    "                                \"Average Reading Score\":Reading_score_mean,\n",
    "                                \"% Passing Math\":passing_math_mean,\n",
    "                                \"% Passing Reading\":passing_reading_mean,\n",
    "                                \"% Overall Passing\":allPassing_mean})\n",
    "\n",
    "# Format data\n",
    "scores_by_spending[\"Average Reading Score\"]=scores_by_spending[\"Average Reading Score\"].map(\"{:.3f}\".format)\n",
    "scores_by_spending[\"% Passing Math\"]=scores_by_spending[\"% Passing Math\"].map(\"{:.3f}\".format)\n",
    "scores_by_spending[\"% Passing Reading\"]=scores_by_spending[\"% Passing Reading\"].map(\"{:.3f}\".format)\n",
    "scores_by_spending[\"% Overall Passing\"]=scores_by_spending[\"% Overall Passing\"].map(\"{:.3f}\".format)\n",
    "\n",
    "scores_by_spending\n",
    "\n",
    "\n",
    "\n"
   ]
  },
  {
   "cell_type": "code",
   "execution_count": 134,
   "metadata": {},
   "outputs": [
    {
     "output_type": "execute_result",
     "data": {
      "text/plain": [
       "                   Average Math Score Average Reading Score % Passing Math  \\\n",
       "School Size                                                                  \n",
       "Small(<1000)                  83.8000                83.900         93.550   \n",
       "Medium(1000-2000)             83.4000                83.860         93.598   \n",
       "Large(2000-5000)              77.7375                81.337         69.964   \n",
       "\n",
       "                  % Passing Reading % Overall Passing  \n",
       "School Size                                            \n",
       "Small(<1000)                 96.100            89.885  \n",
       "Medium(1000-2000)            96.790            90.620  \n",
       "Large(2000-5000)             82.766            58.285  "
      ],
      "text/html": "<div>\n<style scoped>\n    .dataframe tbody tr th:only-of-type {\n        vertical-align: middle;\n    }\n\n    .dataframe tbody tr th {\n        vertical-align: top;\n    }\n\n    .dataframe thead th {\n        text-align: right;\n    }\n</style>\n<table border=\"1\" class=\"dataframe\">\n  <thead>\n    <tr style=\"text-align: right;\">\n      <th></th>\n      <th>Average Math Score</th>\n      <th>Average Reading Score</th>\n      <th>% Passing Math</th>\n      <th>% Passing Reading</th>\n      <th>% Overall Passing</th>\n    </tr>\n    <tr>\n      <th>School Size</th>\n      <th></th>\n      <th></th>\n      <th></th>\n      <th></th>\n      <th></th>\n    </tr>\n  </thead>\n  <tbody>\n    <tr>\n      <th>Small(&lt;1000)</th>\n      <td>83.8000</td>\n      <td>83.900</td>\n      <td>93.550</td>\n      <td>96.100</td>\n      <td>89.885</td>\n    </tr>\n    <tr>\n      <th>Medium(1000-2000)</th>\n      <td>83.4000</td>\n      <td>83.860</td>\n      <td>93.598</td>\n      <td>96.790</td>\n      <td>90.620</td>\n    </tr>\n    <tr>\n      <th>Large(2000-5000)</th>\n      <td>77.7375</td>\n      <td>81.337</td>\n      <td>69.964</td>\n      <td>82.766</td>\n      <td>58.285</td>\n    </tr>\n  </tbody>\n</table>\n</div>"
     },
     "metadata": {},
     "execution_count": 134
    }
   ],
   "source": [
    "# Scores by school size\n",
    "\n",
    "# change to numeric format in school summary data frame\n",
    "school_summary[\"Total Student\"] = school_summary[\"Total Student\"].replace(',', '', regex=True).astype('float')\n",
    "school_summary['Total Student'] = pd.to_numeric(school_summary['Total Student'])\n",
    "\n",
    "\n",
    "# Create Bins by size\n",
    "size_bins = [0,1000,2000,5000]\n",
    "names = [\"Small(<1000)\",\"Medium(1000-2000)\",\"Large(2000-5000)\"]\n",
    "school_summary[\"School Size\"]=pd.cut(school_summary[\"Total Student\"], size_bins,labels=names)\n",
    "school_summary.head()\n",
    "\n",
    "# Group data by school size\n",
    "school_size=school_summary.groupby([\"School Size\"])\n",
    "\n",
    "#calculate the mean of every size group\n",
    "math_score_mean=school_size[\"Average Math Score\"].mean()\n",
    "Reading_score_mean=school_size[\"Average Reading Score\"].mean()\n",
    "passing_math_mean=school_size[\"% Passing Math\"].mean()\n",
    "passing_reading_mean=school_size[\"% Passing Reading\"].mean()\n",
    "allPassing_mean=school_size[\"% Overall Passing\"].mean()\n",
    "\n",
    "# create a dataframe to hold the results\n",
    "scores_by_size=pd.DataFrame({\"Average Math Score\":math_score_mean,\n",
    "                                \"Average Reading Score\":Reading_score_mean,\n",
    "                                \"% Passing Math\":passing_math_mean,\n",
    "                                \"% Passing Reading\":passing_reading_mean,\n",
    "                                \"% Overall Passing\":allPassing_mean})\n",
    "\n",
    "# Format data\n",
    "scores_by_size[\"Average Reading Score\"]=scores_by_size[\"Average Reading Score\"].map(\"{:.3f}\".format)\n",
    "scores_by_size[\"% Passing Math\"]=scores_by_size[\"% Passing Math\"].map(\"{:.3f}\".format)\n",
    "scores_by_size[\"% Passing Reading\"]=scores_by_size[\"% Passing Reading\"].map(\"{:.3f}\".format)\n",
    "scores_by_size[\"% Overall Passing\"]=scores_by_size[\"% Overall Passing\"].map(\"{:.3f}\".format)\n",
    "\n",
    "scores_by_size\n",
    "\n"
   ]
  },
  {
   "cell_type": "code",
   "execution_count": 135,
   "metadata": {},
   "outputs": [
    {
     "output_type": "execute_result",
     "data": {
      "text/plain": [
       "             Average Math Score Average Reading Score % Passing Math  \\\n",
       "School Type                                                            \n",
       "Charter               83.487500                83.888         93.620   \n",
       "District              76.942857                80.957         66.549   \n",
       "\n",
       "            % Passing Reading % Overall Passing  \n",
       "School Type                                      \n",
       "Charter                96.586            90.431  \n",
       "District               80.799            53.671  "
      ],
      "text/html": "<div>\n<style scoped>\n    .dataframe tbody tr th:only-of-type {\n        vertical-align: middle;\n    }\n\n    .dataframe tbody tr th {\n        vertical-align: top;\n    }\n\n    .dataframe thead th {\n        text-align: right;\n    }\n</style>\n<table border=\"1\" class=\"dataframe\">\n  <thead>\n    <tr style=\"text-align: right;\">\n      <th></th>\n      <th>Average Math Score</th>\n      <th>Average Reading Score</th>\n      <th>% Passing Math</th>\n      <th>% Passing Reading</th>\n      <th>% Overall Passing</th>\n    </tr>\n    <tr>\n      <th>School Type</th>\n      <th></th>\n      <th></th>\n      <th></th>\n      <th></th>\n      <th></th>\n    </tr>\n  </thead>\n  <tbody>\n    <tr>\n      <th>Charter</th>\n      <td>83.487500</td>\n      <td>83.888</td>\n      <td>93.620</td>\n      <td>96.586</td>\n      <td>90.431</td>\n    </tr>\n    <tr>\n      <th>District</th>\n      <td>76.942857</td>\n      <td>80.957</td>\n      <td>66.549</td>\n      <td>80.799</td>\n      <td>53.671</td>\n    </tr>\n  </tbody>\n</table>\n</div>"
     },
     "metadata": {},
     "execution_count": 135
    }
   ],
   "source": [
    "# Scores by School Type\n",
    "school_type=school_summary.groupby([\"School Type\"])\n",
    "\n",
    "#calculate the mean of every school type group\n",
    "math_score_mean=school_type[\"Average Math Score\"].mean()\n",
    "Reading_score_mean=school_type[\"Average Reading Score\"].mean()\n",
    "passing_math_mean=school_type[\"% Passing Math\"].mean()\n",
    "passing_reading_mean=school_type[\"% Passing Reading\"].mean()\n",
    "allPassing_mean=school_type[\"% Overall Passing\"].mean()\n",
    "\n",
    "# create a dataframe to hold the results\n",
    "scores_by_type=pd.DataFrame({\"Average Math Score\":math_score_mean,\n",
    "                                \"Average Reading Score\":Reading_score_mean,\n",
    "                                \"% Passing Math\":passing_math_mean,\n",
    "                                \"% Passing Reading\":passing_reading_mean,\n",
    "                                \"% Overall Passing\":allPassing_mean})\n",
    "\n",
    "# Format data\n",
    "scores_by_type[\"Average Reading Score\"]=scores_by_type[\"Average Reading Score\"].map(\"{:.3f}\".format)\n",
    "scores_by_type[\"% Passing Math\"]=scores_by_type[\"% Passing Math\"].map(\"{:.3f}\".format)\n",
    "scores_by_type[\"% Passing Reading\"]=scores_by_type[\"% Passing Reading\"].map(\"{:.3f}\".format)\n",
    "scores_by_type[\"% Overall Passing\"]=scores_by_type[\"% Overall Passing\"].map(\"{:.3f}\".format)\n",
    "\n",
    "scores_by_type\n",
    "\n"
   ]
  },
  {
   "cell_type": "code",
   "execution_count": null,
   "metadata": {},
   "outputs": [],
   "source": [
    "#conclusions on city schools:\n",
    "\n",
    "# 1. charter schools tend to have a better formance than district school. top 5 are all from charter and bottom 5 are all district school. \n",
    "#    This is also inline with the result from scores by school types. The average scores in Math and Reading, as well as % passing from \n",
    "#    charter schools are higher than district school. \n",
    "\n",
    "# 2. Interstingling everage spending per student does not guarantee better performance.\n",
    "\n",
    "# 3.  Smaller school tends to have higher passing rate from report. \n",
    "\n",
    "# 4. Same school tends to have consistant performance over different grade. "
   ]
  }
 ]
}